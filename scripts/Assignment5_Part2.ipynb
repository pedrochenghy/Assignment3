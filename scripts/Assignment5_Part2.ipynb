{
 "cells": [
  {
   "cell_type": "markdown",
   "id": "3d5fbbcf-4cb3-48a5-b82a-13825345dc67",
   "metadata": {},
   "source": [
    "# Assignment 5 Part 2"
   ]
  },
  {
   "cell_type": "markdown",
   "id": "3c47fc82-d0a7-48a2-b301-78c9b3a6aad0",
   "metadata": {},
   "source": [
    "## Set Up and Load Files"
   ]
  },
  {
   "cell_type": "code",
   "execution_count": 3,
   "id": "04954ee4-025d-44f9-8dd7-0495e73f7138",
   "metadata": {},
   "outputs": [
    {
     "name": "stdout",
     "output_type": "stream",
     "text": [
      "<class 'pandas.core.frame.DataFrame'>\n",
      "RangeIndex: 268 entries, 0 to 267\n",
      "Data columns (total 28 columns):\n",
      " #   Column                     Non-Null Count  Dtype  \n",
      "---  ------                     --------------  -----  \n",
      " 0   Timestamp                  268 non-null    object \n",
      " 1   Program                    266 non-null    object \n",
      " 2   Gender                     260 non-null    object \n",
      " 3   Age                        263 non-null    float64\n",
      " 4   Height_cm                  250 non-null    float64\n",
      " 5   Weight_kg                  257 non-null    float64\n",
      " 6   Prev_Salary                251 non-null    float64\n",
      " 7   Expected_Salary            246 non-null    float64\n",
      " 8   Preferred_Org              267 non-null    object \n",
      " 9   Live_with_Parents          267 non-null    object \n",
      " 10  Monthly_Expenses           251 non-null    float64\n",
      " 11  Transport_Mode             267 non-null    object \n",
      " 12  Transport_Cost             256 non-null    float64\n",
      " 13  Entertainment_Cost         258 non-null    float64\n",
      " 14  Handedness                 265 non-null    object \n",
      " 15  Cellphone_Cost             263 non-null    float64\n",
      " 16  Smokes                     268 non-null    object \n",
      " 17  Foot_Size_Inches           231 non-null    float64\n",
      " 18  Alcoholic_Drinks_Per_Week  255 non-null    float64\n",
      " 19  Has_Tattoo                 268 non-null    object \n",
      " 20  Sleep_Hours                265 non-null    float64\n",
      " 21  Social_Media_Hours         260 non-null    float64\n",
      " 22  Study_Hours                256 non-null    float64\n",
      " 23  Work_Hours                 261 non-null    float64\n",
      " 24  Traveled_Outside_NA        268 non-null    object \n",
      " 25  Pays_Tuition               268 non-null    object \n",
      " 26  Coffee_Cups_Per_Day        261 non-null    float64\n",
      " 27  Work_Study_Ratio           252 non-null    float64\n",
      "dtypes: float64(17), object(11)\n",
      "memory usage: 58.8+ KB\n"
     ]
    },
    {
     "data": {
      "text/plain": [
       "(None,\n",
       "              Timestamp Program  Gender   Age  Height_cm  Weight_kg  \\\n",
       " 0  2019-02-04 03:26:35    HRMG  Female  22.0     177.80      110.0   \n",
       " 1  2019-02-04 03:27:45    HRMG  Female  24.0     175.00       63.0   \n",
       " 2  2019-02-04 03:27:46    HRMG    Male  24.0     182.88      100.0   \n",
       " 3  2019-02-04 03:29:06    HRMG  Female  34.0        NaN       61.3   \n",
       " 4  2019-02-04 03:29:12    HRMG  Female  24.0     160.00       54.0   \n",
       " \n",
       "    Prev_Salary  Expected_Salary                       Preferred_Org  \\\n",
       " 0       1400.0           4000.0  3. Non-profit or Government Agency   \n",
       " 1       2000.0           3750.0                    2. Small Company   \n",
       " 2       2000.0           3500.0                    2. Small Company   \n",
       " 3       2500.0           3500.0                1. Large Corporation   \n",
       " 4          0.0           3800.0                    2. Small Company   \n",
       " \n",
       "   Live_with_Parents  ...  Alcoholic_Drinks_Per_Week Has_Tattoo  Sleep_Hours  \\\n",
       " 0                No  ...                        0.0        Yes          8.0   \n",
       " 1               Yes  ...                        0.0        Yes          8.0   \n",
       " 2               Yes  ...                        1.0         No          6.0   \n",
       " 3               Yes  ...                        0.0        Yes         78.0   \n",
       " 4               Yes  ...                        3.0         No         67.0   \n",
       " \n",
       "    Social_Media_Hours Study_Hours  Work_Hours Traveled_Outside_NA  \\\n",
       " 0                10.0        10.0         0.0                 Yes   \n",
       " 1                 7.0        20.0         0.0                 Yes   \n",
       " 2                20.0        20.0         8.0                 Yes   \n",
       " 3                14.0        20.0         0.0                 Yes   \n",
       " 4                 6.0        11.0         0.0                 Yes   \n",
       " \n",
       "    Pays_Tuition  Coffee_Cups_Per_Day Work_Study_Ratio  \n",
       " 0            No                  0.0          0.00000  \n",
       " 1           Yes                  2.0          0.00000  \n",
       " 2            No                  0.0          0.39801  \n",
       " 3            No                  1.0          0.00000  \n",
       " 4           Yes                  1.0          0.00000  \n",
       " \n",
       " [5 rows x 28 columns])"
      ]
     },
     "execution_count": 3,
     "metadata": {},
     "output_type": "execute_result"
    }
   ],
   "source": [
    "import pandas as pd\n",
    "import re\n",
    "import numpy as np\n",
    "from datetime import datetime\n",
    "\n",
    "# Load the clean dataset (2025 version)\n",
    "file_path_2025 = \"../clean_data/Combine Clean Statistics_Survey2025_PedroCheng_2025-02-23.csv\"\n",
    "df_2025 = pd.read_csv(file_path_2025)\n",
    "\n",
    "# Display basic info and preview the clean data\n",
    "df_2025.info(), df_2025.head()"
   ]
  },
  {
   "cell_type": "code",
   "execution_count": 4,
   "id": "bc580d0a-ddde-4eb3-b1bb-ef435468f88d",
   "metadata": {},
   "outputs": [
    {
     "name": "stdout",
     "output_type": "stream",
     "text": [
      "<class 'pandas.core.frame.DataFrame'>\n",
      "RangeIndex: 12 entries, 0 to 11\n",
      "Data columns (total 3 columns):\n",
      " #   Column           Non-Null Count  Dtype \n",
      "---  ------           --------------  ----- \n",
      " 0   Program ID       12 non-null     int64 \n",
      " 1   Program          12 non-null     object\n",
      " 2   Type of Program  12 non-null     object\n",
      "dtypes: int64(1), object(2)\n",
      "memory usage: 416.0+ bytes\n"
     ]
    },
    {
     "data": {
      "text/plain": [
       "(None,\n",
       "    Program ID Program    Type of Program\n",
       " 0        1001    BABI     Advanced Study\n",
       " 1        1002     BBA  Bachelor's Degree\n",
       " 2        1003    BBAD  Bachelor's Degree\n",
       " 3        1004    BMGT            Diploma\n",
       " 4        1005    COMP            Diploma)"
      ]
     },
     "execution_count": 4,
     "metadata": {},
     "output_type": "execute_result"
    }
   ],
   "source": [
    "# Load the new dataset (ProrgamType)\n",
    "file_path_pt = \"../data/ProgramType.csv\"\n",
    "df_pt = pd.read_csv(file_path_pt)\n",
    "\n",
    "# Display basic info and preview the new datatable\n",
    "df_pt.info(), df_pt.head()"
   ]
  },
  {
   "cell_type": "markdown",
   "id": "60eebc0b-990a-42c0-aea3-dadda701a8e2",
   "metadata": {},
   "source": [
    "## Left Join the Dataframes"
   ]
  },
  {
   "cell_type": "code",
   "execution_count": 6,
   "id": "da312f30-e8e1-4d0c-b484-7ab54e7d671a",
   "metadata": {},
   "outputs": [
    {
     "name": "stdout",
     "output_type": "stream",
     "text": [
      "<class 'pandas.core.frame.DataFrame'>\n",
      "RangeIndex: 268 entries, 0 to 267\n",
      "Data columns (total 30 columns):\n",
      " #   Column                     Non-Null Count  Dtype  \n",
      "---  ------                     --------------  -----  \n",
      " 0   Timestamp                  268 non-null    object \n",
      " 1   Program                    266 non-null    object \n",
      " 2   Gender                     260 non-null    object \n",
      " 3   Age                        263 non-null    float64\n",
      " 4   Height_cm                  250 non-null    float64\n",
      " 5   Weight_kg                  257 non-null    float64\n",
      " 6   Prev_Salary                251 non-null    float64\n",
      " 7   Expected_Salary            246 non-null    float64\n",
      " 8   Preferred_Org              267 non-null    object \n",
      " 9   Live_with_Parents          267 non-null    object \n",
      " 10  Monthly_Expenses           251 non-null    float64\n",
      " 11  Transport_Mode             267 non-null    object \n",
      " 12  Transport_Cost             256 non-null    float64\n",
      " 13  Entertainment_Cost         258 non-null    float64\n",
      " 14  Handedness                 265 non-null    object \n",
      " 15  Cellphone_Cost             263 non-null    float64\n",
      " 16  Smokes                     268 non-null    object \n",
      " 17  Foot_Size_Inches           231 non-null    float64\n",
      " 18  Alcoholic_Drinks_Per_Week  255 non-null    float64\n",
      " 19  Has_Tattoo                 268 non-null    object \n",
      " 20  Sleep_Hours                265 non-null    float64\n",
      " 21  Social_Media_Hours         260 non-null    float64\n",
      " 22  Study_Hours                256 non-null    float64\n",
      " 23  Work_Hours                 261 non-null    float64\n",
      " 24  Traveled_Outside_NA        268 non-null    object \n",
      " 25  Pays_Tuition               268 non-null    object \n",
      " 26  Coffee_Cups_Per_Day        261 non-null    float64\n",
      " 27  Work_Study_Ratio           252 non-null    float64\n",
      " 28  Program ID                 266 non-null    float64\n",
      " 29  Type of Program            266 non-null    object \n",
      "dtypes: float64(18), object(12)\n",
      "memory usage: 62.9+ KB\n"
     ]
    },
    {
     "data": {
      "text/plain": [
       "(None,\n",
       "              Timestamp Program  Gender   Age  Height_cm  Weight_kg  \\\n",
       " 0  2019-02-04 03:26:35    HRMG  Female  22.0     177.80      110.0   \n",
       " 1  2019-02-04 03:27:45    HRMG  Female  24.0     175.00       63.0   \n",
       " 2  2019-02-04 03:27:46    HRMG    Male  24.0     182.88      100.0   \n",
       " 3  2019-02-04 03:29:06    HRMG  Female  34.0        NaN       61.3   \n",
       " 4  2019-02-04 03:29:12    HRMG  Female  24.0     160.00       54.0   \n",
       " \n",
       "    Prev_Salary  Expected_Salary                       Preferred_Org  \\\n",
       " 0       1400.0           4000.0  3. Non-profit or Government Agency   \n",
       " 1       2000.0           3750.0                    2. Small Company   \n",
       " 2       2000.0           3500.0                    2. Small Company   \n",
       " 3       2500.0           3500.0                1. Large Corporation   \n",
       " 4          0.0           3800.0                    2. Small Company   \n",
       " \n",
       "   Live_with_Parents  ...  Sleep_Hours Social_Media_Hours  Study_Hours  \\\n",
       " 0                No  ...          8.0               10.0         10.0   \n",
       " 1               Yes  ...          8.0                7.0         20.0   \n",
       " 2               Yes  ...          6.0               20.0         20.0   \n",
       " 3               Yes  ...         78.0               14.0         20.0   \n",
       " 4               Yes  ...         67.0                6.0         11.0   \n",
       " \n",
       "    Work_Hours Traveled_Outside_NA  Pays_Tuition Coffee_Cups_Per_Day  \\\n",
       " 0         0.0                 Yes            No                 0.0   \n",
       " 1         0.0                 Yes           Yes                 2.0   \n",
       " 2         8.0                 Yes            No                 0.0   \n",
       " 3         0.0                 Yes            No                 1.0   \n",
       " 4         0.0                 Yes           Yes                 1.0   \n",
       " \n",
       "    Work_Study_Ratio  Program ID Type of Program  \n",
       " 0           0.00000      1007.0         Diploma  \n",
       " 1           0.00000      1007.0         Diploma  \n",
       " 2           0.39801      1007.0         Diploma  \n",
       " 3           0.00000      1007.0         Diploma  \n",
       " 4           0.00000      1007.0         Diploma  \n",
       " \n",
       " [5 rows x 30 columns])"
      ]
     },
     "execution_count": 6,
     "metadata": {},
     "output_type": "execute_result"
    }
   ],
   "source": [
    "# left join the clean data with the new datatable\n",
    "df_combined = pd.merge(df_2025, df_pt, on=\"Program\", how=\"left\")\n",
    "\n",
    "# Display basic info and preview the combined data\n",
    "df_combined.info(), df_combined.head()"
   ]
  },
  {
   "cell_type": "markdown",
   "id": "b098249e-dab5-42a7-bd80-eaededa5084a",
   "metadata": {},
   "source": [
    "## Save the Joined Data File"
   ]
  },
  {
   "cell_type": "code",
   "execution_count": 8,
   "id": "21e06c9d-befc-4232-9954-18b45c7dc364",
   "metadata": {},
   "outputs": [
    {
     "name": "stdout",
     "output_type": "stream",
     "text": [
      "Cleaned dataset saved as: Combined Clean Statistics_Survey2025_PedroCheng_2025-02-23.csv\n"
     ]
    }
   ],
   "source": [
    "# Generate today's date for filename\n",
    "today_date = datetime.today().strftime(\"%Y-%m-%d\")  # Format: YYYY-MM-DD\n",
    "file_name = f\"Combined Clean Statistics_Survey2025_PedroCheng_{today_date}.csv\"\n",
    "\n",
    "# Save the joined dataframe\n",
    "df_combined.to_csv(file_name, index=False)\n",
    "\n",
    "# Print statement for confirmation\n",
    "print(\"Cleaned dataset saved as:\", file_name)"
   ]
  },
  {
   "cell_type": "markdown",
   "id": "2a4ccad4-5858-4f57-bf4c-d9bac92ea983",
   "metadata": {},
   "source": [
    "## Reason why I chose \"Program\" as the key to merge"
   ]
  },
  {
   "cell_type": "markdown",
   "id": "93b977fa-eb61-4747-b216-678618475cac",
   "metadata": {},
   "source": [
    "Firstly, in the cleaned data, the \"Prorgam\" field contains the program abbreviations of the students. It has been standardized into a fixed number of variations. It represents the full context of the program the students are in.\n",
    "\n",
    "Secondly, the (self-made) new datatable \"ProgramType\" is a small data directory containing each program abbreviations and their corresponding type of program in BCIT. It indicates whether a program is a bachelor's degree or a diploma.\n",
    "\n",
    "Then, whe program abbreviations in both dataframes are unique keys, which is suitable to be used as a merging key. If it is not unique, duplicate values may cause incorrect joins or unintended data duplication.\n",
    "\n",
    "Besides, the \"Program\" key have the same name and format in both dataframe. There is no trailing spaces, mismatched cases, or different data types.\n",
    "\n",
    "Furthermore, a good merging key should be relatively stable and not to be changed or updated frequently. Using a key like \"Program\" is good as it is stable. Theoretically, the best option would be a unique identifier like \"Program_ID\" but there is none in the original cleaned dataframe.\n",
    "\n",
    "Finally, there are minimal numbers of Nan or Null values in this key column \"Program\" in both tables. If missing values exist, the join may result in unintended null matches or dropped rows. There were two records in the original cleaned data that has NaN value in \"Program\", due to the automated data cleaning process. The joined data field for those two records would also be NaN as the left join process couldn't identify the key for merging."
   ]
  },
  {
   "cell_type": "code",
   "execution_count": null,
   "id": "fd961ded-fe5b-4ae6-b58a-108cf8a69541",
   "metadata": {},
   "outputs": [],
   "source": []
  }
 ],
 "metadata": {
  "kernelspec": {
   "display_name": "anaconda-2024.02-py310",
   "language": "python",
   "name": "conda-env-anaconda-2024.02-py310-py"
  },
  "language_info": {
   "codemirror_mode": {
    "name": "ipython",
    "version": 3
   },
   "file_extension": ".py",
   "mimetype": "text/x-python",
   "name": "python",
   "nbconvert_exporter": "python",
   "pygments_lexer": "ipython3",
   "version": "3.10.14"
  }
 },
 "nbformat": 4,
 "nbformat_minor": 5
}
